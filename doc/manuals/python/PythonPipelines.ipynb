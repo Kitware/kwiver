{
 "metadata": {
  "language_info": {
   "codemirror_mode": {
    "name": "ipython",
    "version": 3
   },
   "file_extension": ".py",
   "mimetype": "text/x-python",
   "name": "python",
   "nbconvert_exporter": "python",
   "pygments_lexer": "ipython3",
   "version": 3
  },
  "orig_nbformat": 2
 },
 "nbformat": 4,
 "nbformat_minor": 2,
 "cells": [
  {
   "source": [
    "Python Pipelining\n",
    "=================\n",
    "\n",
    "The following code block provides a very basic, rudimentary programatic execution of a very simple pipeline. This boiler plate example \"borrowed\" from Tom Osika's very well put together pipeline demo found at https://github.com/tao558/kwiver_demo"
   ],
   "cell_type": "markdown",
   "metadata": {}
  },
  {
   "cell_type": "code",
   "execution_count": null,
   "metadata": {},
   "outputs": [],
   "source": [
    "# import modules needed for programatic process execution\n",
    "from kwiver.sprokit.adapters import adapter_data_set, embedded_pipeline\n",
    "# define path to pipeline file\n",
    "\n",
    "ep = embedded_pipeline.EmbeddedPipeline()\n",
    "ep.build_pipeline(path_to_pipe_file)\n",
    "\n",
    "ep.start()\n",
    "\n",
    "ads_in = adapter_data_set.AdapterDataSet.create()\n",
    "ads_in[\"image\"] = im_container\n",
    "ep.send(ads_in)\n",
    "ep.send_end_of_input()\n",
    "\n",
    "while True:\n",
    "    ads_out = ep.receive()\n",
    "\n",
    "    if ads_out.is_end_of_data():\n",
    "        break\n",
    "\n",
    "\n",
    "import time\n",
    "time.sleep(5)\n",
    "ep.stop()\n"
   ]
  },
  {
   "source": [
    "Now that we've demonstrated a basic implementation, we run a more complex pipeline from the python interpreter."
   ],
   "cell_type": "markdown",
   "metadata": {}
  },
  {
   "cell_type": "code",
   "execution_count": null,
   "metadata": {},
   "outputs": [],
   "source": [
    "from kwiver.sprokit.adapters import adapter_data_set, embedded_pipeline\n"
   ]
  },
  {
   "source": [
    "Of course, we can also run a pipeline from the command line with Kwiver's runner applet. Kwiver's pipelines allow for the execution of both Python and C++ processes provided that compatible data types are leveraged. "
   ],
   "cell_type": "markdown",
   "metadata": {}
  },
  {
   "source": [
    "\\#TODO Mixed pipeline with non vital datatype... is this possible? I mean obviously if the python process converts from vital to non vital to vital but I mean just straight up works w/o need for a lot of user driven conversion code."
   ],
   "cell_type": "markdown",
   "metadata": {}
  }
 ]
}
