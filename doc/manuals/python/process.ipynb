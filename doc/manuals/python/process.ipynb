{
 "metadata": {
  "language_info": {
   "codemirror_mode": {
    "name": "ipython",
    "version": 3
   },
   "file_extension": ".py",
   "mimetype": "text/x-python",
   "name": "python",
   "nbconvert_exporter": "python",
   "pygments_lexer": "ipython3",
   "version": 3
  },
  "orig_nbformat": 2
 },
 "nbformat": 4,
 "nbformat_minor": 2,
 "cells": [
  {
   "source": [
    "Kwiver Processes in Python\n",
    "==========================\n",
    "\n",
    "Note: this file pretains only to the implementation of a Sporkit process in python, and does not directly cover pipelines or any related topics. That is the subject of another doc.\n",
    "\n",
    "Algos and Arrows can be utilzied programmatically directly from a python script, or composed as components of a pipeline integrating any combination of C++ and Python based processes, utilizing the vital types to ensure universal data compatibility. To this end, if implementing a mixed pipeline with C++ and Python processes that leverages a custom, non vital type, either in C++ or Python, a Pybind11 binding must be created for the type and exposed to the pipeline so that python/C++ can interpret and properly use the type #TODO"
   ],
   "cell_type": "markdown",
   "metadata": {}
  },
  {
   "source": [
    "Python Processes can inherit from one of two base classes that support fundamental process methods, KwiverProcess and PythonProcess. Below are examples of each approach."
   ],
   "cell_type": "markdown",
   "metadata": {}
  },
  {
   "source": [
    "A further note that if a process exists in C++ it does *not* need to be bound in Python as C++ processes can be incorporated into mixed pipelines alongside python processes out of the box. This includes pipelines executed from the python interpreter."
   ],
   "cell_type": "markdown",
   "metadata": {}
  },
  {
   "cell_type": "code",
   "execution_count": null,
   "metadata": {},
   "outputs": [],
   "source": [
    "from kwiver.sprokit.pipeline import process, datum\n",
    "from kwiver.kwiver_process import KwiverProcess\n",
    "\n",
    "\n",
    "class HelloWorldPython(process.PythonProcess):\n",
    "    # process instances need to expose the config obj as a constructor argument\n",
    "    # if a process for whatever reason does not require/need a conf object\n",
    "    # A default arg can be used. This will be rare.\n",
    "    def __init__(self, conf = None):\n",
    "        super().__init__(self,conf)\n",
    "\n",
    "class HelloWorldPythonKw(process.KwiverProcess):\n",
    "    def __init__(self, conf = None):\n",
    "        super().__init__(self,conf)      \n",
    "\n"
   ]
  },
  {
   "source": [
    "Much like algos, we also need to expose this process to the pipeline runner via a dunder registration method"
   ],
   "cell_type": "markdown",
   "metadata": {}
  },
  {
   "cell_type": "code",
   "execution_count": null,
   "metadata": {},
   "outputs": [],
   "source": [
    "def __sprokit_register__():\n",
    "    from kwiver.sprokit.pipeline import process_factory\n",
    "\n",
    "    module_name = 'python:kwiver.hello_world'\n",
    "\n",
    "    if process_factory.is_process_module_loaded(module_name):\n",
    "        return\n",
    "\n",
    "    process_factory.add_process('hello_world_process',\n",
    "                                'A Simple Kwiver Test Process',\n",
    "                                HelloWorldPython)\n",
    "\n",
    "    process_factory.mark_process_module_as_loaded(module_name)"
   ]
  },
  {
   "source": [
    "Of course, in its current state, this process does absolutely nothing, and is a fairly trivial example. The following examples demonstrate a little more diverse functionality.\n",
    "\n",
    "To properly implement a process we need to implement a couple of core methods, without which, the process will not function. These functions are the ```_configure``` step and the ```_step``` step. The configure step serves to construct the process during exeuction of a pipeline and the step is the programatic exeuction of the process.\n",
    "\n",
    "This process serves as the only node in the pipeline, accepting and producing no output ports. A more substantive example will follow."
   ],
   "cell_type": "markdown",
   "metadata": {}
  },
  {
   "cell_type": "code",
   "execution_count": null,
   "metadata": {},
   "outputs": [],
   "source": [
    "import sys\n",
    "\n",
    "class HelloWorldPython(process.KwiverProcess):\n",
    "    def __init__(self, conf):\n",
    "        super().__init__(self,conf)\n",
    "        flags = kwiver.sprokit.pipeline.process.PortFlags()\n",
    "        flags.add(self.flag_required)\n",
    "    def _configure(self):\n",
    "        pass\n",
    "    def _step(self):\n",
    "        sys.stdout.write(\"hello world\")\n",
    "        self._base_step()"
   ]
  },
  {
   "source": [
    "\\# Pipefile for this process\n",
    "\n",
    "#==================================================================\n",
    "\n",
    "process helloworld\n",
    "\n",
    "  :: hello_world_process\n",
    "\n",
    "#==================================================================\n",
    "\n",
    "config _scheduler\n",
    "\n",
    "  type = pythread_per_process\n",
    "\n",
    "\\# -- end of file --"
   ],
   "cell_type": "markdown",
   "metadata": {}
  },
  {
   "source": [
    "Next we will detail the differentiation between inheriting from `process.KwiverProcess` and `process.PythonProcess`"
   ],
   "cell_type": "markdown",
   "metadata": {}
  },
  {
   "cell_type": "code",
   "execution_count": null,
   "metadata": {},
   "outputs": [],
   "source": []
  },
  {
   "source": [
    "Pure python process implementing functionality from python\n",
    "\n",
    "For this example we will be implementing a *very* simple 3d point class"
   ],
   "cell_type": "markdown",
   "metadata": {}
  },
  {
   "cell_type": "code",
   "execution_count": null,
   "metadata": {},
   "outputs": [],
   "source": [
    "import numpy as np\n",
    "\n",
    "class pt3d(object):\n",
    "    def __init__(self, x = 0, y = 0, z = 0, dtype = np.float32):\n",
    "        self.x = x\n",
    "        self.y = y\n",
    "        self.z = z\n",
    "        self.dtype = dtype\n",
    "    def as_array(self):\n",
    "        return np.ndarray((1,3), dtype=self.dtype, buffer=[self.x,self.y,self.z])\n",
    "    def as_mat(self):\n",
    "        return np.matrix(self.as_array())\n",
    "    def __str__(self):\n",
    "        return \"(%s)\" % \",\".join(str(self.x), str(self.y), str(self.z))"
   ]
  },
  {
   "source": [
    "Now that we have a basic data type, we need to create processes that can handle this datatype. Preexisting Kwiver processes will not support it as this data type is outside of vital. For demonstration purposes, the KwiverProcess utility mixin will leveraged to improve clarity and readability."
   ],
   "cell_type": "markdown",
   "metadata": {}
  },
  {
   "cell_type": "code",
   "execution_count": null,
   "metadata": {},
   "outputs": [],
   "source": [
    "from kwiver.sprokit.processes import KwiverProcess\n",
    "\n",
    "\n",
    "class NodeSource(KwiverProcess):\n",
    "    # Note we need to have an option for the config in our constructor\n",
    "    def __init__(self, conf):\n",
    "        super().__init__(self, conf)\n",
    "        required = process.PortFlags()\n",
    "        required.add(self.flag_required)\n",
    "        self.add_type_trait(\n",
    "            \"pt3d\",\n",
    "            \"pt3d\",\n",
    "            datum.Datum.get_datum,\n",
    "            datum.new\n",
    "        )\n",
    "        self.add_port_trait(\"pt3d\",\"pt3d\",\"Custom numpy 3d pt class\")\n",
    "        self.declare_output_port_using_trait(\"3dpt\", required)\n",
    "    def _configure(self):\n",
    "        self._base_configure()\n",
    "        self.data = pt3d(2,3,4,np.int64)\n",
    "    def _step(self):\n",
    "        self.push_to_port_using_trait(\"pt3d\", self.data)\n",
    "        self.push_to_port_using_trait(\"pt3d\", datum.complete())\n",
    "        self.mark_process_as_complete()\n",
    "\n",
    "def __sprokit_register__():\n",
    "    from sprokit.pipeline import process_factory\n",
    "    module_name = \"python:source\"\n",
    "    if process_factory.is_process_module_loaded(module_name):\n",
    "        return\n",
    "    process_factory.add_process(\"SourceNode\",\"3dpt producer\", NodeSource)\n",
    "    process_factory.mark_process_module_as_loaded(module_name)\n"
   ]
  },
  {
   "cell_type": "code",
   "execution_count": null,
   "metadata": {},
   "outputs": [],
   "source": [
    "from kwiver.sprokit.processes import KwiverProcess\n",
    "from kwiver.vital.types import Point3d\n",
    "class Node(KwiverProcess):\n",
    "    def __init__(self, conf):\n",
    "        super().__init__(self, conf)\n",
    "        required = process.PortFlags()\n",
    "        required.add(self.flag_required)\n",
    "        self.add_type_trait(\n",
    "            \"pt3d\",\n",
    "            \"pt3d\",\n",
    "            datum.Datum.get_datum,\n",
    "            datum.new\n",
    "        )\n",
    "        self.add_type_trait(\n",
    "            \"point\",\n",
    "            \"kwiver:point\",\n",
    "            datum.Datum.get_datum,\n",
    "            datum.new\n",
    "        )\n",
    "        self.add_port_trait(\"pt3d\",\"pt3d\",\"Custom numpy 3d pt class\")\n",
    "        self.add_port_trait(\"point\", \"point\", \"3d point in world frame\")\n",
    "        self.declare_input_port_using_trait(\"3dpt\",required)\n",
    "        self.declare_output_port_using_trait(\"point\",required)\n",
    "    def _configure(self):\n",
    "        self._base_configure()\n",
    "    def _step(self):\n",
    "        pt3d = self.grab_input_using_trait(\"pt3d\")\n",
    "        pt_mat = pt3d.as_mat()\n",
    "        vital_pt = Point3d(pt_mat)\n",
    "        self.push_to_port_using_trait(\"point\")\n",
    "\n",
    "def __sprokit_register__():\n",
    "    from sprokit.pipeline import process_factory\n",
    "    module_name = \"python:source\"\n",
    "    if process_factory.is_process_module_loaded(module_name):\n",
    "        return\n",
    "    process_factory.add_process(\"SourceNode\",\"3dpt producer\", NodeSource)\n",
    "    process_factory.mark_process_module_as_loaded(module_name)"
   ]
  },
  {
   "cell_type": "code",
   "execution_count": null,
   "metadata": {},
   "outputs": [],
   "source": [
    "from kwiver.sprokit.process import KwiverProcess\n",
    "from kwiver.vital.types import Point3d\n",
    "\n",
    "class NodeSink(KwiverProcess):\n",
    "    def __init__(self, conf):\n",
    "        super().__init__(self, conf)\n",
    "        required = process.PortFlags()\n",
    "        required.add(self.flag_required)\n",
    "        self.add_type_trait(\n",
    "            \"point\",\n",
    "            \"kwiver:point\",\n",
    "            datum.Datum.get_datum,\n",
    "            datum.new\n",
    "        )\n",
    "        self.add_port_trait(\"point\",\"point\",\"3d point in world plane\")\n",
    "        self.declare_input_port_using_trait(\"point\",required)\n",
    "    def _configure(self):\n",
    "        self._base_configure()\n",
    "    def _step(self):\n",
    "        pt = self.grab_input_using_trait('point')\n",
    "        print(pt)\n",
    "def __sprokit_register__():\n",
    "    from sprokit.pipeline import process_factory\n",
    "    module_name = \"python:sink\"\n",
    "    if process_factory.is_process_module_loaded(module_name):\n",
    "        return\n",
    "    process_factory.add_process(\"SinkNode\",\"3d pt producer\", NodeSink)\n",
    "    process_factory.mark_process_module_as_loaded(module_name)"
   ]
  }
 ]
}